{
 "cells": [
  {
   "cell_type": "code",
   "execution_count": 4,
   "metadata": {},
   "outputs": [],
   "source": [
    "from kan.KANLayer import KANLayer\n",
    "import torch\n",
    "\n",
    "model = KANLayer(in_dim=3, out_dim=5)\n",
    "x = torch.normal(0,1,size=(1,3))\n",
    "y, preacts, postacts, postspline = model(x)\n"
   ]
  },
  {
   "cell_type": "code",
   "execution_count": 11,
   "metadata": {},
   "outputs": [
    {
     "data": {
      "text/plain": [
       "tensor([[0.6253, 0.4749, 0.5480]])"
      ]
     },
     "execution_count": 11,
     "metadata": {},
     "output_type": "execute_result"
    }
   ],
   "source": [
    "x"
   ]
  },
  {
   "cell_type": "code",
   "execution_count": 13,
   "metadata": {},
   "outputs": [
    {
     "data": {
      "text/plain": [
       "tensor([[[0.6253, 0.4749, 0.5480],\n",
       "         [0.6253, 0.4749, 0.5480],\n",
       "         [0.6253, 0.4749, 0.5480],\n",
       "         [0.6253, 0.4749, 0.5480],\n",
       "         [0.6253, 0.4749, 0.5480]]])"
      ]
     },
     "execution_count": 13,
     "metadata": {},
     "output_type": "execute_result"
    }
   ],
   "source": [
    "preacts"
   ]
  },
  {
   "cell_type": "code",
   "execution_count": 15,
   "metadata": {},
   "outputs": [
    {
     "data": {
      "text/plain": [
       "tensor([[[ 0.0533,  0.2219,  0.1806],\n",
       "         [-0.2327,  0.0087,  0.0720],\n",
       "         [-0.0060, -0.1452,  0.1258],\n",
       "         [-0.0117, -0.0651, -0.0571],\n",
       "         [-0.1693, -0.0276, -0.0602]]], grad_fn=<PermuteBackward0>)"
      ]
     },
     "execution_count": 15,
     "metadata": {},
     "output_type": "execute_result"
    }
   ],
   "source": [
    "postacts"
   ]
  },
  {
   "cell_type": "code",
   "execution_count": 17,
   "metadata": {},
   "outputs": [
    {
     "data": {
      "text/plain": [
       "tensor([[[-0.0119,  0.0535,  0.0264],\n",
       "         [-0.0512,  0.0113,  0.0313],\n",
       "         [ 0.0276, -0.0007,  0.0065],\n",
       "         [-0.0395, -0.0323, -0.0231],\n",
       "         [ 0.0012,  0.0277,  0.0027]]], grad_fn=<PermuteBackward0>)"
      ]
     },
     "execution_count": 17,
     "metadata": {},
     "output_type": "execute_result"
    }
   ],
   "source": [
    "postspline"
   ]
  },
  {
   "cell_type": "code",
   "execution_count": 19,
   "metadata": {},
   "outputs": [
    {
     "data": {
      "text/plain": [
       "tensor([[ 0.4559, -0.1520, -0.0254, -0.1339, -0.2571]], grad_fn=<SumBackward1>)"
      ]
     },
     "execution_count": 19,
     "metadata": {},
     "output_type": "execute_result"
    }
   ],
   "source": [
    "y"
   ]
  }
 ],
 "metadata": {
  "kernelspec": {
   "display_name": "kan",
   "language": "python",
   "name": "python3"
  },
  "language_info": {
   "codemirror_mode": {
    "name": "ipython",
    "version": 3
   },
   "file_extension": ".py",
   "mimetype": "text/x-python",
   "name": "python",
   "nbconvert_exporter": "python",
   "pygments_lexer": "ipython3",
   "version": "3.9.7"
  }
 },
 "nbformat": 4,
 "nbformat_minor": 2
}
